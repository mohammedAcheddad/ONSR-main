{
  "cells": [
    {
      "cell_type": "code",
      "execution_count": 1,
      "id": "5c00b6b0",
      "metadata": {
        "id": "5c00b6b0",
        "scrolled": true
      },
      "outputs": [],
      "source": [
        "import numpy as np\n",
        "import pandas as pd"
      ]
    },
    {
      "cell_type": "code",
      "execution_count": 2,
      "id": "dId3mH1OHFlA",
      "metadata": {
        "id": "dId3mH1OHFlA"
      },
      "outputs": [],
      "source": [
        "# Generate random user profiles\n",
        "np.random.seed(42)\n",
        "num_users = 100\n",
        "names = ['John', 'Jane', 'Bob', 'Alice', 'Charlie', 'David', 'Emily', 'Frank', 'Grace', 'Henry']\n",
        "last_names = ['Smith', 'Johnson', 'Williams', 'Jones', 'Brown', 'Davis', 'Miller', 'Wilson', 'Moore', 'Taylor']\n",
        "jobs = ['software engineer', 'data analyst', 'marketing manager', 'sales representative', 'teacher', 'doctor', 'chef', 'journalist', 'artist', 'athlete']\n",
        "cities = ['New York', 'San Francisco', 'Los Angeles', 'Chicago', 'Seattle', 'Boston', 'Austin', 'Miami', 'Denver', 'Atlanta']\n",
        "purposes = ['vacation', 'business', 'family visit', 'adventure', 'cultural', 'religious', 'honeymoon', 'wellness', 'sports', 'education']\n",
        "companions = ['alone', 'spouse/partner', 'family', 'friends', 'colleagues', 'other']\n"
      ]
    },
    {
      "cell_type": "code",
      "execution_count": 3,
      "id": "IKoUj8pOHEGH",
      "metadata": {
        "id": "IKoUj8pOHEGH"
      },
      "outputs": [],
      "source": [
        "#Create dictionaries for data features :\n",
        "jobs_1 = [(0,'software engineer'), (1,'data analyst'), (2,'marketing manager'), (3,'sales representative'), (4,'teacher'), (5,'doctor'), (6,'chef'), (7,'journalist'), (8,'artist'), (9,'athlete')]\n",
        "jobs_dict = dict(jobs_1)\n",
        "\n",
        "cities_1 = [(0,'New York'), (1,'San Francisco'), (2,'Los Angeles'), (3,'Chicago'), (4,'Seattle'), (5,'Boston'), (6,'Austin'), (7,'Miami'), (8,'Denver'), (9,'Atlanta')]\n",
        "cities_dict = dict(cities_1)\n",
        "\n",
        "travel_purpose_1 = [(0,'vacation'), (1,'business'), (2,'family visit'), (3,'adventure'), (4,'cultural'), (5,'religious'), (6,'honeymoon'), (7,'wellness'), (8,'sports'), (9,'education')]\n",
        "travel_purpose_dict = dict(travel_purpose_1)\n",
        "\n",
        "travel_companions_1 =  [(0,'alone'), (1,'spouse/partner'), (2,'family'), (3,'friends'), (4,'colleagues'), (5,'other')]\n",
        "travel_companions_dict = dict(travel_companions_1)\n"
      ]
    },
    {
      "cell_type": "code",
      "execution_count": 4,
      "id": "8dxdhq2RHskE",
      "metadata": {
        "id": "8dxdhq2RHskE"
      },
      "outputs": [],
      "source": [
        "jobs2 = list(jobs_dict.keys())\n",
        "cities2 = list(cities_dict.keys())\n",
        "travel_purpose2 = list(travel_purpose_dict.keys())\n",
        "travel_companions2 = list(travel_companions_dict.keys())"
      ]
    },
    {
      "cell_type": "code",
      "execution_count": 5,
      "id": "ckbJCHpLRLNj",
      "metadata": {
        "id": "ckbJCHpLRLNj"
      },
      "outputs": [],
      "source": [
        "user_Id = ['#' + str(i) for i in range(100)]"
      ]
    },
    {
      "cell_type": "code",
      "execution_count": 6,
      "id": "79661f9c",
      "metadata": {
        "id": "79661f9c"
      },
      "outputs": [],
      "source": [
        "names_list = [np.random.choice(names) + ' ' + np.random.choice(last_names) for i in range(num_users)]\n",
        "mails = [name.lower().replace(' ', '.') + '@example.com' for name in names_list]\n",
        "Age = [np.random.randint(10, 70) for i in range(num_users)]\n",
        "job_list = [np.random.choice(jobs2) for i in range(num_users)]\n",
        "city_list = [np.random.choice(cities2) for i in range(num_users)]\n",
        "freq_list = [np.random.randint(0, 14) for i in range(num_users)]\n",
        "purpose_list = [np.random.choice(travel_purpose2) for i in range(num_users)]\n",
        "companion_list = [np.random.choice(travel_companions2) for i in range(num_users)]\n"
      ]
    },
    {
      "cell_type": "code",
      "execution_count": 7,
      "id": "8_xOnrYlM_Je",
      "metadata": {
        "id": "8_xOnrYlM_Je"
      },
      "outputs": [],
      "source": [
        "# Create a pandas DataFrame to store the user profiles\n",
        "df = pd.DataFrame({'User_Id':user_Id ,'name': names_list, 'mail': mails, 'Age': Age,\n",
        "                   'job': job_list, 'city': city_list, 'travel_frequency': freq_list,\n",
        "                   'travel_purpose': purpose_list, 'travel_companions': companion_list})"
      ]
    },
    {
      "cell_type": "code",
      "execution_count": 8,
      "id": "4nJ3K9RuNEYq",
      "metadata": {
        "colab": {
          "base_uri": "https://localhost:8080/",
          "height": 206
        },
        "id": "4nJ3K9RuNEYq",
        "outputId": "5d2d6ba8-34f9-4f1c-e7d2-cf9b4a37b0d4"
      },
      "outputs": [
        {
          "data": {
            "text/html": [
              "<div>\n",
              "<style scoped>\n",
              "    .dataframe tbody tr th:only-of-type {\n",
              "        vertical-align: middle;\n",
              "    }\n",
              "\n",
              "    .dataframe tbody tr th {\n",
              "        vertical-align: top;\n",
              "    }\n",
              "\n",
              "    .dataframe thead th {\n",
              "        text-align: right;\n",
              "    }\n",
              "</style>\n",
              "<table border=\"1\" class=\"dataframe\">\n",
              "  <thead>\n",
              "    <tr style=\"text-align: right;\">\n",
              "      <th></th>\n",
              "      <th>User_Id</th>\n",
              "      <th>name</th>\n",
              "      <th>mail</th>\n",
              "      <th>Age</th>\n",
              "      <th>job</th>\n",
              "      <th>city</th>\n",
              "      <th>travel_frequency</th>\n",
              "      <th>travel_purpose</th>\n",
              "      <th>travel_companions</th>\n",
              "    </tr>\n",
              "  </thead>\n",
              "  <tbody>\n",
              "    <tr>\n",
              "      <th>0</th>\n",
              "      <td>#0</td>\n",
              "      <td>Emily Jones</td>\n",
              "      <td>emily.jones@example.com</td>\n",
              "      <td>31</td>\n",
              "      <td>3</td>\n",
              "      <td>3</td>\n",
              "      <td>6</td>\n",
              "      <td>7</td>\n",
              "      <td>0</td>\n",
              "    </tr>\n",
              "    <tr>\n",
              "      <th>1</th>\n",
              "      <td>#1</td>\n",
              "      <td>Frank Brown</td>\n",
              "      <td>frank.brown@example.com</td>\n",
              "      <td>20</td>\n",
              "      <td>7</td>\n",
              "      <td>5</td>\n",
              "      <td>3</td>\n",
              "      <td>9</td>\n",
              "      <td>1</td>\n",
              "    </tr>\n",
              "    <tr>\n",
              "      <th>2</th>\n",
              "      <td>#2</td>\n",
              "      <td>Emily Taylor</td>\n",
              "      <td>emily.taylor@example.com</td>\n",
              "      <td>57</td>\n",
              "      <td>7</td>\n",
              "      <td>3</td>\n",
              "      <td>9</td>\n",
              "      <td>8</td>\n",
              "      <td>0</td>\n",
              "    </tr>\n",
              "    <tr>\n",
              "      <th>3</th>\n",
              "      <td>#3</td>\n",
              "      <td>Bob Miller</td>\n",
              "      <td>bob.miller@example.com</td>\n",
              "      <td>25</td>\n",
              "      <td>6</td>\n",
              "      <td>2</td>\n",
              "      <td>4</td>\n",
              "      <td>1</td>\n",
              "      <td>2</td>\n",
              "    </tr>\n",
              "    <tr>\n",
              "      <th>4</th>\n",
              "      <td>#4</td>\n",
              "      <td>Frank Brown</td>\n",
              "      <td>frank.brown@example.com</td>\n",
              "      <td>42</td>\n",
              "      <td>2</td>\n",
              "      <td>6</td>\n",
              "      <td>1</td>\n",
              "      <td>9</td>\n",
              "      <td>4</td>\n",
              "    </tr>\n",
              "  </tbody>\n",
              "</table>\n",
              "</div>"
            ],
            "text/plain": [
              "  User_Id          name                      mail  Age  job  city  \\\n",
              "0      #0   Emily Jones   emily.jones@example.com   31    3     3   \n",
              "1      #1   Frank Brown   frank.brown@example.com   20    7     5   \n",
              "2      #2  Emily Taylor  emily.taylor@example.com   57    7     3   \n",
              "3      #3    Bob Miller    bob.miller@example.com   25    6     2   \n",
              "4      #4   Frank Brown   frank.brown@example.com   42    2     6   \n",
              "\n",
              "   travel_frequency  travel_purpose  travel_companions  \n",
              "0                 6               7                  0  \n",
              "1                 3               9                  1  \n",
              "2                 9               8                  0  \n",
              "3                 4               1                  2  \n",
              "4                 1               9                  4  "
            ]
          },
          "execution_count": 8,
          "metadata": {},
          "output_type": "execute_result"
        }
      ],
      "source": [
        "# Print the first few rows of the DataFrame\n",
        "df.head()"
      ]
    },
    {
      "cell_type": "code",
      "execution_count": 9,
      "id": "53c82e95",
      "metadata": {
        "colab": {
          "base_uri": "https://localhost:8080/",
          "height": 262
        },
        "id": "53c82e95",
        "outputId": "549aab9e-1a3f-43de-f62f-d61bd1e27978"
      },
      "outputs": [
        {
          "data": {
            "text/html": [
              "<div>\n",
              "<style scoped>\n",
              "    .dataframe tbody tr th:only-of-type {\n",
              "        vertical-align: middle;\n",
              "    }\n",
              "\n",
              "    .dataframe tbody tr th {\n",
              "        vertical-align: top;\n",
              "    }\n",
              "\n",
              "    .dataframe thead th {\n",
              "        text-align: right;\n",
              "    }\n",
              "</style>\n",
              "<table border=\"1\" class=\"dataframe\">\n",
              "  <thead>\n",
              "    <tr style=\"text-align: right;\">\n",
              "      <th></th>\n",
              "      <th>User_Id</th>\n",
              "      <th>name</th>\n",
              "      <th>mail</th>\n",
              "      <th>Age</th>\n",
              "      <th>job</th>\n",
              "      <th>city</th>\n",
              "      <th>travel_frequency</th>\n",
              "      <th>travel_purpose</th>\n",
              "      <th>travel_companions</th>\n",
              "      <th>cluster</th>\n",
              "    </tr>\n",
              "  </thead>\n",
              "  <tbody>\n",
              "    <tr>\n",
              "      <th>0</th>\n",
              "      <td>#0</td>\n",
              "      <td>Emily Jones</td>\n",
              "      <td>emily.jones@example.com</td>\n",
              "      <td>31</td>\n",
              "      <td>3</td>\n",
              "      <td>3</td>\n",
              "      <td>6</td>\n",
              "      <td>7</td>\n",
              "      <td>0</td>\n",
              "      <td>1</td>\n",
              "    </tr>\n",
              "    <tr>\n",
              "      <th>1</th>\n",
              "      <td>#1</td>\n",
              "      <td>Frank Brown</td>\n",
              "      <td>frank.brown@example.com</td>\n",
              "      <td>20</td>\n",
              "      <td>7</td>\n",
              "      <td>5</td>\n",
              "      <td>3</td>\n",
              "      <td>9</td>\n",
              "      <td>1</td>\n",
              "      <td>1</td>\n",
              "    </tr>\n",
              "    <tr>\n",
              "      <th>2</th>\n",
              "      <td>#2</td>\n",
              "      <td>Emily Taylor</td>\n",
              "      <td>emily.taylor@example.com</td>\n",
              "      <td>57</td>\n",
              "      <td>7</td>\n",
              "      <td>3</td>\n",
              "      <td>9</td>\n",
              "      <td>8</td>\n",
              "      <td>0</td>\n",
              "      <td>1</td>\n",
              "    </tr>\n",
              "    <tr>\n",
              "      <th>3</th>\n",
              "      <td>#3</td>\n",
              "      <td>Bob Miller</td>\n",
              "      <td>bob.miller@example.com</td>\n",
              "      <td>25</td>\n",
              "      <td>6</td>\n",
              "      <td>2</td>\n",
              "      <td>4</td>\n",
              "      <td>1</td>\n",
              "      <td>2</td>\n",
              "      <td>3</td>\n",
              "    </tr>\n",
              "    <tr>\n",
              "      <th>4</th>\n",
              "      <td>#4</td>\n",
              "      <td>Frank Brown</td>\n",
              "      <td>frank.brown@example.com</td>\n",
              "      <td>42</td>\n",
              "      <td>2</td>\n",
              "      <td>6</td>\n",
              "      <td>1</td>\n",
              "      <td>9</td>\n",
              "      <td>4</td>\n",
              "      <td>0</td>\n",
              "    </tr>\n",
              "  </tbody>\n",
              "</table>\n",
              "</div>"
            ],
            "text/plain": [
              "  User_Id          name                      mail  Age  job  city  \\\n",
              "0      #0   Emily Jones   emily.jones@example.com   31    3     3   \n",
              "1      #1   Frank Brown   frank.brown@example.com   20    7     5   \n",
              "2      #2  Emily Taylor  emily.taylor@example.com   57    7     3   \n",
              "3      #3    Bob Miller    bob.miller@example.com   25    6     2   \n",
              "4      #4   Frank Brown   frank.brown@example.com   42    2     6   \n",
              "\n",
              "   travel_frequency  travel_purpose  travel_companions  cluster  \n",
              "0                 6               7                  0        1  \n",
              "1                 3               9                  1        1  \n",
              "2                 9               8                  0        1  \n",
              "3                 4               1                  2        3  \n",
              "4                 1               9                  4        0  "
            ]
          },
          "execution_count": 9,
          "metadata": {},
          "output_type": "execute_result"
        }
      ],
      "source": [
        "from sklearn.cluster import KMeans\n",
        "from sklearn.preprocessing import StandardScaler\n",
        "\n",
        "# Select the columns to cluster on\n",
        "columns_to_cluster = ['Age', 'travel_frequency','job','city','travel_purpose','travel_companions']\n",
        "\n",
        "# Standardize the data\n",
        "scaler = StandardScaler()\n",
        "scaled_data = scaler.fit_transform(df[columns_to_cluster])\n",
        "\n",
        "# Perform k-means clustering with 4 clusters\n",
        "num_clusters = 4\n",
        "kmeans = KMeans(n_clusters=num_clusters)\n",
        "kmeans.fit(scaled_data)\n",
        "\n",
        "# Add the cluster labels to the DataFrame\n",
        "df['cluster'] = kmeans.labels_\n",
        "\n",
        "# Print the first few rows of the DataFrame with the cluster labels\n",
        "df.head()"
      ]
    },
    {
      "cell_type": "code",
      "execution_count": 10,
      "id": "13f9db12",
      "metadata": {
        "colab": {
          "base_uri": "https://localhost:8080/"
        },
        "id": "13f9db12",
        "outputId": "0e8e293f-4fa9-435d-b9ee-dc377c1feff5"
      },
      "outputs": [
        {
          "name": "stdout",
          "output_type": "stream",
          "text": [
            "  User_Id          name                      mail  Age  job  city  \\\n",
            "0      #0   Emily Jones   emily.jones@example.com   31    3     3   \n",
            "1      #1   Frank Brown   frank.brown@example.com   20    7     5   \n",
            "2      #2  Emily Taylor  emily.taylor@example.com   57    7     3   \n",
            "3      #3    Bob Miller    bob.miller@example.com   25    6     2   \n",
            "4      #4   Frank Brown   frank.brown@example.com   42    2     6   \n",
            "\n",
            "   travel_frequency  travel_purpose  travel_companions  cluster  \n",
            "0                 6               7                  0        2  \n",
            "1                 3               9                  1        2  \n",
            "2                 9               8                  0        2  \n",
            "3                 4               1                  2        1  \n",
            "4                 1               9                  4        2  \n"
          ]
        }
      ],
      "source": [
        "# Cluster the scaled data using KMeans\n",
        "kmeans = KMeans(n_clusters=3, random_state=42)\n",
        "kmeans.fit(scaled_data)\n",
        "\n",
        "# Add cluster labels to the DataFrame\n",
        "df['cluster'] = kmeans.labels_\n",
        "\n",
        "# Print the first few rows of the DataFrame\n",
        "print(df.head())"
      ]
    },
    {
      "cell_type": "code",
      "execution_count": null,
      "id": "a9d18998",
      "metadata": {
        "id": "a9d18998"
      },
      "outputs": [],
      "source": []
    }
  ],
  "metadata": {
    "accelerator": "GPU",
    "colab": {
      "provenance": []
    },
    "gpuClass": "standard",
    "kernelspec": {
      "display_name": "base",
      "language": "python",
      "name": "python3"
    },
    "language_info": {
      "codemirror_mode": {
        "name": "ipython",
        "version": 3
      },
      "file_extension": ".py",
      "mimetype": "text/x-python",
      "name": "python",
      "nbconvert_exporter": "python",
      "pygments_lexer": "ipython3",
      "version": "3.9.13"
    },
    "vscode": {
      "interpreter": {
        "hash": "ad2bdc8ecc057115af97d19610ffacc2b4e99fae6737bb82f5d7fb13d2f2c186"
      }
    }
  },
  "nbformat": 4,
  "nbformat_minor": 5
}
